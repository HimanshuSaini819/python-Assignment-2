{
  "nbformat": 4,
  "nbformat_minor": 0,
  "metadata": {
    "colab": {
      "provenance": []
    },
    "kernelspec": {
      "name": "python3",
      "display_name": "Python 3"
    },
    "language_info": {
      "name": "python"
    }
  },
  "cells": [
    {
      "cell_type": "code",
      "execution_count": 1,
      "metadata": {
        "colab": {
          "base_uri": "https://localhost:8080/"
        },
        "id": "UD4ian1aR0_L",
        "outputId": "21a1fb63-3b32-4b58-b421-df9f50b8418f"
      },
      "outputs": [
        {
          "output_type": "stream",
          "name": "stdout",
          "text": [
            "Sorted Players: [('Sachin Tendulkar', 34357), ('Ricky Ponting', 27483), ('Jack Kallis', 25534), ('Virat Kohli', 24936)]\n"
          ]
        }
      ],
      "source": [
        "#Q1: Sort the list of tuples using a lambda function\n",
        "\n",
        "# Input list of tuples\n",
        "players = [\n",
        "    ('Sachin Tendulkar', 34357),\n",
        "    ('Ricky Ponting', 27483),\n",
        "    ('Jack Kallis', 25534),\n",
        "    ('Virat Kohli', 24936)\n",
        "]\n",
        "\n",
        "# Sort the list based on the integer value in the tuple\n",
        "sorted_players = sorted(players, key=lambda x: x[1], reverse=True)\n",
        "print(\"Sorted Players:\", sorted_players)\n"
      ]
    },
    {
      "cell_type": "code",
      "source": [
        "#Q2: Find squares of all numbers using map and a lambda function\n",
        "\n",
        "# Input list\n",
        "numbers = [1, 2, 3, 4, 5, 6, 7, 8, 9, 10]\n",
        "\n",
        "# Using map and lambda to calculate squares\n",
        "squares = list(map(lambda x: x**2, numbers))\n",
        "print(\"Squares of numbers:\", squares)\n"
      ],
      "metadata": {
        "colab": {
          "base_uri": "https://localhost:8080/"
        },
        "id": "vUsUWjhZSd-m",
        "outputId": "7a02c2ca-ca59-4943-9355-11a767777fee"
      },
      "execution_count": 2,
      "outputs": [
        {
          "output_type": "stream",
          "name": "stdout",
          "text": [
            "Squares of numbers: [1, 4, 9, 16, 25, 36, 49, 64, 81, 100]\n"
          ]
        }
      ]
    },
    {
      "cell_type": "code",
      "source": [
        "#Q3: Convert list of integers into a tuple of strings\n",
        "\n",
        "# Input list\n",
        "numbers = [1, 2, 3, 4, 5, 6, 7, 8, 9, 10]\n",
        "\n",
        "# Using map and lambda to convert to tuple of strings\n",
        "string_tuple = tuple(map(lambda x: str(x), numbers))\n",
        "print(\"Tuple of strings:\", string_tuple)\n"
      ],
      "metadata": {
        "colab": {
          "base_uri": "https://localhost:8080/"
        },
        "id": "rnbPQC3xSzHl",
        "outputId": "658c8d72-8327-4c6a-bdb7-568a89a81bc8"
      },
      "execution_count": 3,
      "outputs": [
        {
          "output_type": "stream",
          "name": "stdout",
          "text": [
            "Tuple of strings: ('1', '2', '3', '4', '5', '6', '7', '8', '9', '10')\n"
          ]
        }
      ]
    },
    {
      "cell_type": "code",
      "source": [
        "#Q4: Compute the product of numbers from 1 to 25 using reduce\n",
        "\n",
        "from functools import reduce\n",
        "\n",
        "# List from 1 to 25\n",
        "numbers = list(range(1, 26))\n",
        "\n",
        "# Using reduce to compute the product\n",
        "product = reduce(lambda x, y: x * y, numbers)\n",
        "print(\"Product of numbers from 1 to 25:\", product)\n"
      ],
      "metadata": {
        "colab": {
          "base_uri": "https://localhost:8080/"
        },
        "id": "klAWY3ESTBX_",
        "outputId": "ffc76b6f-cf11-4c5a-8792-657ac046bc3c"
      },
      "execution_count": 4,
      "outputs": [
        {
          "output_type": "stream",
          "name": "stdout",
          "text": [
            "Product of numbers from 1 to 25: 15511210043330985984000000\n"
          ]
        }
      ]
    },
    {
      "cell_type": "code",
      "source": [
        "#Q5: Filter numbers divisible by 2 and 3 using filter\n",
        "\n",
        "# Input list\n",
        "numbers = [2, 3, 6, 9, 27, 60, 90, 120, 55, 46]\n",
        "\n",
        "# Using filter and lambda to find numbers divisible by 2 and 3\n",
        "filtered_numbers = list(filter(lambda x: x % 2 == 0 and x % 3 == 0, numbers))\n",
        "print(\"Numbers divisible by 2 and 3:\", filtered_numbers)\n"
      ],
      "metadata": {
        "colab": {
          "base_uri": "https://localhost:8080/"
        },
        "id": "jWIpz6H1THA2",
        "outputId": "57e27ca8-8dc3-4d87-bb6e-50791a7fda52"
      },
      "execution_count": 5,
      "outputs": [
        {
          "output_type": "stream",
          "name": "stdout",
          "text": [
            "Numbers divisible by 2 and 3: [6, 60, 90, 120]\n"
          ]
        }
      ]
    },
    {
      "cell_type": "code",
      "source": [
        "#Q6: Find palindromes in a list of strings using filter and a lambda function\n",
        "\n",
        "# Input list of strings\n",
        "strings = ['python', 'php', 'aba', 'radar', 'level']\n",
        "\n",
        "# Using filter and lambda to find palindromes\n",
        "palindromes = list(filter(lambda x: x == x[::-1], strings))\n",
        "print(\"Palindromes:\", palindromes)\n"
      ],
      "metadata": {
        "colab": {
          "base_uri": "https://localhost:8080/"
        },
        "id": "O-En6tjXTPF0",
        "outputId": "31a4bd95-30d0-40d3-faa6-1db8e630b655"
      },
      "execution_count": 6,
      "outputs": [
        {
          "output_type": "stream",
          "name": "stdout",
          "text": [
            "Palindromes: ['php', 'aba', 'radar', 'level']\n"
          ]
        }
      ]
    },
    {
      "cell_type": "code",
      "source": [],
      "metadata": {
        "id": "-Mq3R4-mTVRw"
      },
      "execution_count": null,
      "outputs": []
    }
  ]
}